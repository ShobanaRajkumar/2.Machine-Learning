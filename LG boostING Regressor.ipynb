{
 "cells": [
  {
   "cell_type": "code",
   "execution_count": 1,
   "metadata": {},
   "outputs": [],
   "source": [
    "import pandas as pd"
   ]
  },
  {
   "cell_type": "code",
   "execution_count": 2,
   "metadata": {},
   "outputs": [],
   "source": [
    "dataset=pd.read_csv(\"insurance_pre.csv\")"
   ]
  },
  {
   "cell_type": "code",
   "execution_count": 3,
   "metadata": {},
   "outputs": [
    {
     "data": {
      "text/html": [
       "<div>\n",
       "<style scoped>\n",
       "    .dataframe tbody tr th:only-of-type {\n",
       "        vertical-align: middle;\n",
       "    }\n",
       "\n",
       "    .dataframe tbody tr th {\n",
       "        vertical-align: top;\n",
       "    }\n",
       "\n",
       "    .dataframe thead th {\n",
       "        text-align: right;\n",
       "    }\n",
       "</style>\n",
       "<table border=\"1\" class=\"dataframe\">\n",
       "  <thead>\n",
       "    <tr style=\"text-align: right;\">\n",
       "      <th></th>\n",
       "      <th>age</th>\n",
       "      <th>sex</th>\n",
       "      <th>bmi</th>\n",
       "      <th>children</th>\n",
       "      <th>smoker</th>\n",
       "      <th>charges</th>\n",
       "    </tr>\n",
       "  </thead>\n",
       "  <tbody>\n",
       "    <tr>\n",
       "      <td>0</td>\n",
       "      <td>19</td>\n",
       "      <td>female</td>\n",
       "      <td>27.900</td>\n",
       "      <td>0</td>\n",
       "      <td>yes</td>\n",
       "      <td>16884.92400</td>\n",
       "    </tr>\n",
       "    <tr>\n",
       "      <td>1</td>\n",
       "      <td>18</td>\n",
       "      <td>male</td>\n",
       "      <td>33.770</td>\n",
       "      <td>1</td>\n",
       "      <td>no</td>\n",
       "      <td>1725.55230</td>\n",
       "    </tr>\n",
       "    <tr>\n",
       "      <td>2</td>\n",
       "      <td>28</td>\n",
       "      <td>male</td>\n",
       "      <td>33.000</td>\n",
       "      <td>3</td>\n",
       "      <td>no</td>\n",
       "      <td>4449.46200</td>\n",
       "    </tr>\n",
       "    <tr>\n",
       "      <td>3</td>\n",
       "      <td>33</td>\n",
       "      <td>male</td>\n",
       "      <td>22.705</td>\n",
       "      <td>0</td>\n",
       "      <td>no</td>\n",
       "      <td>21984.47061</td>\n",
       "    </tr>\n",
       "    <tr>\n",
       "      <td>4</td>\n",
       "      <td>32</td>\n",
       "      <td>male</td>\n",
       "      <td>28.880</td>\n",
       "      <td>0</td>\n",
       "      <td>no</td>\n",
       "      <td>3866.85520</td>\n",
       "    </tr>\n",
       "    <tr>\n",
       "      <td>...</td>\n",
       "      <td>...</td>\n",
       "      <td>...</td>\n",
       "      <td>...</td>\n",
       "      <td>...</td>\n",
       "      <td>...</td>\n",
       "      <td>...</td>\n",
       "    </tr>\n",
       "    <tr>\n",
       "      <td>1333</td>\n",
       "      <td>50</td>\n",
       "      <td>male</td>\n",
       "      <td>30.970</td>\n",
       "      <td>3</td>\n",
       "      <td>no</td>\n",
       "      <td>10600.54830</td>\n",
       "    </tr>\n",
       "    <tr>\n",
       "      <td>1334</td>\n",
       "      <td>18</td>\n",
       "      <td>female</td>\n",
       "      <td>31.920</td>\n",
       "      <td>0</td>\n",
       "      <td>no</td>\n",
       "      <td>2205.98080</td>\n",
       "    </tr>\n",
       "    <tr>\n",
       "      <td>1335</td>\n",
       "      <td>18</td>\n",
       "      <td>female</td>\n",
       "      <td>36.850</td>\n",
       "      <td>0</td>\n",
       "      <td>no</td>\n",
       "      <td>1629.83350</td>\n",
       "    </tr>\n",
       "    <tr>\n",
       "      <td>1336</td>\n",
       "      <td>21</td>\n",
       "      <td>female</td>\n",
       "      <td>25.800</td>\n",
       "      <td>0</td>\n",
       "      <td>no</td>\n",
       "      <td>2007.94500</td>\n",
       "    </tr>\n",
       "    <tr>\n",
       "      <td>1337</td>\n",
       "      <td>61</td>\n",
       "      <td>female</td>\n",
       "      <td>29.070</td>\n",
       "      <td>0</td>\n",
       "      <td>yes</td>\n",
       "      <td>29141.36030</td>\n",
       "    </tr>\n",
       "  </tbody>\n",
       "</table>\n",
       "<p>1338 rows × 6 columns</p>\n",
       "</div>"
      ],
      "text/plain": [
       "      age     sex     bmi  children smoker      charges\n",
       "0      19  female  27.900         0    yes  16884.92400\n",
       "1      18    male  33.770         1     no   1725.55230\n",
       "2      28    male  33.000         3     no   4449.46200\n",
       "3      33    male  22.705         0     no  21984.47061\n",
       "4      32    male  28.880         0     no   3866.85520\n",
       "...   ...     ...     ...       ...    ...          ...\n",
       "1333   50    male  30.970         3     no  10600.54830\n",
       "1334   18  female  31.920         0     no   2205.98080\n",
       "1335   18  female  36.850         0     no   1629.83350\n",
       "1336   21  female  25.800         0     no   2007.94500\n",
       "1337   61  female  29.070         0    yes  29141.36030\n",
       "\n",
       "[1338 rows x 6 columns]"
      ]
     },
     "execution_count": 3,
     "metadata": {},
     "output_type": "execute_result"
    }
   ],
   "source": [
    "dataset"
   ]
  },
  {
   "cell_type": "code",
   "execution_count": 4,
   "metadata": {},
   "outputs": [],
   "source": [
    "dataset=pd.get_dummies(dataset,drop_first=True)"
   ]
  },
  {
   "cell_type": "code",
   "execution_count": 5,
   "metadata": {},
   "outputs": [
    {
     "data": {
      "text/plain": [
       "Index(['age', 'bmi', 'children', 'charges', 'sex_male', 'smoker_yes'], dtype='object')"
      ]
     },
     "execution_count": 5,
     "metadata": {},
     "output_type": "execute_result"
    }
   ],
   "source": [
    "dataset.columns"
   ]
  },
  {
   "cell_type": "code",
   "execution_count": 6,
   "metadata": {},
   "outputs": [],
   "source": [
    "independent=dataset[['age', 'bmi', 'children','sex_male', 'smoker_yes']]"
   ]
  },
  {
   "cell_type": "code",
   "execution_count": 7,
   "metadata": {},
   "outputs": [
    {
     "data": {
      "text/html": [
       "<div>\n",
       "<style scoped>\n",
       "    .dataframe tbody tr th:only-of-type {\n",
       "        vertical-align: middle;\n",
       "    }\n",
       "\n",
       "    .dataframe tbody tr th {\n",
       "        vertical-align: top;\n",
       "    }\n",
       "\n",
       "    .dataframe thead th {\n",
       "        text-align: right;\n",
       "    }\n",
       "</style>\n",
       "<table border=\"1\" class=\"dataframe\">\n",
       "  <thead>\n",
       "    <tr style=\"text-align: right;\">\n",
       "      <th></th>\n",
       "      <th>age</th>\n",
       "      <th>bmi</th>\n",
       "      <th>children</th>\n",
       "      <th>sex_male</th>\n",
       "      <th>smoker_yes</th>\n",
       "    </tr>\n",
       "  </thead>\n",
       "  <tbody>\n",
       "    <tr>\n",
       "      <td>0</td>\n",
       "      <td>19</td>\n",
       "      <td>27.900</td>\n",
       "      <td>0</td>\n",
       "      <td>0</td>\n",
       "      <td>1</td>\n",
       "    </tr>\n",
       "    <tr>\n",
       "      <td>1</td>\n",
       "      <td>18</td>\n",
       "      <td>33.770</td>\n",
       "      <td>1</td>\n",
       "      <td>1</td>\n",
       "      <td>0</td>\n",
       "    </tr>\n",
       "    <tr>\n",
       "      <td>2</td>\n",
       "      <td>28</td>\n",
       "      <td>33.000</td>\n",
       "      <td>3</td>\n",
       "      <td>1</td>\n",
       "      <td>0</td>\n",
       "    </tr>\n",
       "    <tr>\n",
       "      <td>3</td>\n",
       "      <td>33</td>\n",
       "      <td>22.705</td>\n",
       "      <td>0</td>\n",
       "      <td>1</td>\n",
       "      <td>0</td>\n",
       "    </tr>\n",
       "    <tr>\n",
       "      <td>4</td>\n",
       "      <td>32</td>\n",
       "      <td>28.880</td>\n",
       "      <td>0</td>\n",
       "      <td>1</td>\n",
       "      <td>0</td>\n",
       "    </tr>\n",
       "    <tr>\n",
       "      <td>...</td>\n",
       "      <td>...</td>\n",
       "      <td>...</td>\n",
       "      <td>...</td>\n",
       "      <td>...</td>\n",
       "      <td>...</td>\n",
       "    </tr>\n",
       "    <tr>\n",
       "      <td>1333</td>\n",
       "      <td>50</td>\n",
       "      <td>30.970</td>\n",
       "      <td>3</td>\n",
       "      <td>1</td>\n",
       "      <td>0</td>\n",
       "    </tr>\n",
       "    <tr>\n",
       "      <td>1334</td>\n",
       "      <td>18</td>\n",
       "      <td>31.920</td>\n",
       "      <td>0</td>\n",
       "      <td>0</td>\n",
       "      <td>0</td>\n",
       "    </tr>\n",
       "    <tr>\n",
       "      <td>1335</td>\n",
       "      <td>18</td>\n",
       "      <td>36.850</td>\n",
       "      <td>0</td>\n",
       "      <td>0</td>\n",
       "      <td>0</td>\n",
       "    </tr>\n",
       "    <tr>\n",
       "      <td>1336</td>\n",
       "      <td>21</td>\n",
       "      <td>25.800</td>\n",
       "      <td>0</td>\n",
       "      <td>0</td>\n",
       "      <td>0</td>\n",
       "    </tr>\n",
       "    <tr>\n",
       "      <td>1337</td>\n",
       "      <td>61</td>\n",
       "      <td>29.070</td>\n",
       "      <td>0</td>\n",
       "      <td>0</td>\n",
       "      <td>1</td>\n",
       "    </tr>\n",
       "  </tbody>\n",
       "</table>\n",
       "<p>1338 rows × 5 columns</p>\n",
       "</div>"
      ],
      "text/plain": [
       "      age     bmi  children  sex_male  smoker_yes\n",
       "0      19  27.900         0         0           1\n",
       "1      18  33.770         1         1           0\n",
       "2      28  33.000         3         1           0\n",
       "3      33  22.705         0         1           0\n",
       "4      32  28.880         0         1           0\n",
       "...   ...     ...       ...       ...         ...\n",
       "1333   50  30.970         3         1           0\n",
       "1334   18  31.920         0         0           0\n",
       "1335   18  36.850         0         0           0\n",
       "1336   21  25.800         0         0           0\n",
       "1337   61  29.070         0         0           1\n",
       "\n",
       "[1338 rows x 5 columns]"
      ]
     },
     "execution_count": 7,
     "metadata": {},
     "output_type": "execute_result"
    }
   ],
   "source": [
    "independent"
   ]
  },
  {
   "cell_type": "code",
   "execution_count": 8,
   "metadata": {},
   "outputs": [],
   "source": [
    "dependent=dataset[\"charges\"]"
   ]
  },
  {
   "cell_type": "code",
   "execution_count": 9,
   "metadata": {},
   "outputs": [
    {
     "data": {
      "text/plain": [
       "0       16884.92400\n",
       "1        1725.55230\n",
       "2        4449.46200\n",
       "3       21984.47061\n",
       "4        3866.85520\n",
       "           ...     \n",
       "1333    10600.54830\n",
       "1334     2205.98080\n",
       "1335     1629.83350\n",
       "1336     2007.94500\n",
       "1337    29141.36030\n",
       "Name: charges, Length: 1338, dtype: float64"
      ]
     },
     "execution_count": 9,
     "metadata": {},
     "output_type": "execute_result"
    }
   ],
   "source": [
    "dependent"
   ]
  },
  {
   "cell_type": "code",
   "execution_count": 10,
   "metadata": {},
   "outputs": [],
   "source": [
    "from sklearn.model_selection import train_test_split\n",
    "X_train,X_test,y_train,y_test=train_test_split(independent,dependent,test_size=0.30,random_state=0)"
   ]
  },
  {
   "cell_type": "code",
   "execution_count": 11,
   "metadata": {},
   "outputs": [
    {
     "data": {
      "text/html": [
       "<div>\n",
       "<style scoped>\n",
       "    .dataframe tbody tr th:only-of-type {\n",
       "        vertical-align: middle;\n",
       "    }\n",
       "\n",
       "    .dataframe tbody tr th {\n",
       "        vertical-align: top;\n",
       "    }\n",
       "\n",
       "    .dataframe thead th {\n",
       "        text-align: right;\n",
       "    }\n",
       "</style>\n",
       "<table border=\"1\" class=\"dataframe\">\n",
       "  <thead>\n",
       "    <tr style=\"text-align: right;\">\n",
       "      <th></th>\n",
       "      <th>age</th>\n",
       "      <th>bmi</th>\n",
       "      <th>children</th>\n",
       "      <th>sex_male</th>\n",
       "      <th>smoker_yes</th>\n",
       "    </tr>\n",
       "  </thead>\n",
       "  <tbody>\n",
       "    <tr>\n",
       "      <td>1163</td>\n",
       "      <td>18</td>\n",
       "      <td>28.215</td>\n",
       "      <td>0</td>\n",
       "      <td>0</td>\n",
       "      <td>0</td>\n",
       "    </tr>\n",
       "    <tr>\n",
       "      <td>196</td>\n",
       "      <td>39</td>\n",
       "      <td>32.800</td>\n",
       "      <td>0</td>\n",
       "      <td>0</td>\n",
       "      <td>0</td>\n",
       "    </tr>\n",
       "    <tr>\n",
       "      <td>438</td>\n",
       "      <td>52</td>\n",
       "      <td>46.750</td>\n",
       "      <td>5</td>\n",
       "      <td>0</td>\n",
       "      <td>0</td>\n",
       "    </tr>\n",
       "    <tr>\n",
       "      <td>183</td>\n",
       "      <td>44</td>\n",
       "      <td>26.410</td>\n",
       "      <td>0</td>\n",
       "      <td>0</td>\n",
       "      <td>0</td>\n",
       "    </tr>\n",
       "    <tr>\n",
       "      <td>1298</td>\n",
       "      <td>33</td>\n",
       "      <td>27.455</td>\n",
       "      <td>2</td>\n",
       "      <td>1</td>\n",
       "      <td>0</td>\n",
       "    </tr>\n",
       "    <tr>\n",
       "      <td>...</td>\n",
       "      <td>...</td>\n",
       "      <td>...</td>\n",
       "      <td>...</td>\n",
       "      <td>...</td>\n",
       "      <td>...</td>\n",
       "    </tr>\n",
       "    <tr>\n",
       "      <td>763</td>\n",
       "      <td>27</td>\n",
       "      <td>26.030</td>\n",
       "      <td>0</td>\n",
       "      <td>1</td>\n",
       "      <td>0</td>\n",
       "    </tr>\n",
       "    <tr>\n",
       "      <td>835</td>\n",
       "      <td>42</td>\n",
       "      <td>35.970</td>\n",
       "      <td>2</td>\n",
       "      <td>1</td>\n",
       "      <td>0</td>\n",
       "    </tr>\n",
       "    <tr>\n",
       "      <td>1216</td>\n",
       "      <td>40</td>\n",
       "      <td>25.080</td>\n",
       "      <td>0</td>\n",
       "      <td>1</td>\n",
       "      <td>0</td>\n",
       "    </tr>\n",
       "    <tr>\n",
       "      <td>559</td>\n",
       "      <td>19</td>\n",
       "      <td>35.530</td>\n",
       "      <td>0</td>\n",
       "      <td>1</td>\n",
       "      <td>0</td>\n",
       "    </tr>\n",
       "    <tr>\n",
       "      <td>684</td>\n",
       "      <td>33</td>\n",
       "      <td>18.500</td>\n",
       "      <td>1</td>\n",
       "      <td>0</td>\n",
       "      <td>0</td>\n",
       "    </tr>\n",
       "  </tbody>\n",
       "</table>\n",
       "<p>936 rows × 5 columns</p>\n",
       "</div>"
      ],
      "text/plain": [
       "      age     bmi  children  sex_male  smoker_yes\n",
       "1163   18  28.215         0         0           0\n",
       "196    39  32.800         0         0           0\n",
       "438    52  46.750         5         0           0\n",
       "183    44  26.410         0         0           0\n",
       "1298   33  27.455         2         1           0\n",
       "...   ...     ...       ...       ...         ...\n",
       "763    27  26.030         0         1           0\n",
       "835    42  35.970         2         1           0\n",
       "1216   40  25.080         0         1           0\n",
       "559    19  35.530         0         1           0\n",
       "684    33  18.500         1         0           0\n",
       "\n",
       "[936 rows x 5 columns]"
      ]
     },
     "execution_count": 11,
     "metadata": {},
     "output_type": "execute_result"
    }
   ],
   "source": [
    "X_train"
   ]
  },
  {
   "cell_type": "code",
   "execution_count": 12,
   "metadata": {},
   "outputs": [
    {
     "data": {
      "text/plain": [
       "1163     2200.83085\n",
       "196      5649.71500\n",
       "438     12592.53450\n",
       "183      7419.47790\n",
       "1298     5261.46945\n",
       "           ...     \n",
       "763      3070.80870\n",
       "835      7160.33030\n",
       "1216     5415.66120\n",
       "559      1646.42970\n",
       "684      4766.02200\n",
       "Name: charges, Length: 936, dtype: float64"
      ]
     },
     "execution_count": 12,
     "metadata": {},
     "output_type": "execute_result"
    }
   ],
   "source": [
    "y_train"
   ]
  },
  {
   "cell_type": "code",
   "execution_count": 13,
   "metadata": {},
   "outputs": [],
   "source": [
    "from sklearn.datasets import load_boston\n",
    "from sklearn import datasets, ensemble\n",
    "from sklearn.metrics import mean_squared_error\n",
    "from sklearn.model_selection import train_test_split\n",
    "from pandas import DataFrame\n",
    "import matplotlib.pyplot as plt\n",
    "from sklearn.preprocessing import StandardScaler\n",
    "from sklearn.model_selection import train_test_split\n",
    "from sklearn.metrics import mean_squared_error as mse\n",
    "\n",
    " "
   ]
  },
  {
   "cell_type": "code",
   "execution_count": 14,
   "metadata": {},
   "outputs": [
    {
     "name": "stdout",
     "output_type": "stream",
     "text": [
      "Requirement already satisfied: lightgbm==3.2.0 in c:\\python\\lib\\site-packages (3.2.0)\n",
      "Requirement already satisfied: scikit-learn!=0.22.0 in c:\\python\\lib\\site-packages (from lightgbm==3.2.0) (0.21.3)\n",
      "Requirement already satisfied: scipy in c:\\python\\lib\\site-packages (from lightgbm==3.2.0) (1.3.1)\n",
      "Requirement already satisfied: wheel in c:\\python\\lib\\site-packages (from lightgbm==3.2.0) (0.33.6)\n",
      "Requirement already satisfied: numpy in c:\\python\\lib\\site-packages (from lightgbm==3.2.0) (1.16.5)\n",
      "Requirement already satisfied: joblib>=0.11 in c:\\python\\lib\\site-packages (from scikit-learn!=0.22.0->lightgbm==3.2.0) (0.13.2)\n"
     ]
    }
   ],
   "source": [
    "!pip install lightgbm==3.2.0"
   ]
  },
  {
   "cell_type": "code",
   "execution_count": 15,
   "metadata": {},
   "outputs": [],
   "source": [
    "import lightgbm as lgb\n",
    "from lightgbm import LGBMRegressor\n",
    "regressor = lgb.LGBMRegressor(n_estimators=5000)\n",
    "\n"
   ]
  },
  {
   "cell_type": "code",
   "execution_count": 16,
   "metadata": {},
   "outputs": [
    {
     "data": {
      "text/plain": [
       "LGBMRegressor(boosting_type='gbdt', class_weight=None, colsample_bytree=1.0,\n",
       "              importance_type='split', learning_rate=0.1, max_depth=-1,\n",
       "              min_child_samples=20, min_child_weight=0.001, min_split_gain=0.0,\n",
       "              n_estimators=5000, n_jobs=-1, num_leaves=31, objective=None,\n",
       "              random_state=None, reg_alpha=0.0, reg_lambda=0.0, silent=True,\n",
       "              subsample=1.0, subsample_for_bin=200000, subsample_freq=0)"
      ]
     },
     "execution_count": 16,
     "metadata": {},
     "output_type": "execute_result"
    }
   ],
   "source": [
    "regressor.fit(X_train,y_train)"
   ]
  },
  {
   "cell_type": "code",
   "execution_count": 17,
   "metadata": {},
   "outputs": [
    {
     "data": {
      "text/plain": [
       "LGBMRegressor(boosting_type='gbdt', class_weight=None, colsample_bytree=1.0,\n",
       "              importance_type='split', learning_rate=0.1, max_depth=-1,\n",
       "              min_child_samples=20, min_child_weight=0.001, min_split_gain=0.0,\n",
       "              n_estimators=5000, n_jobs=-1, num_leaves=31, objective=None,\n",
       "              random_state=None, reg_alpha=0.0, reg_lambda=0.0, silent=True,\n",
       "              subsample=1.0, subsample_for_bin=200000, subsample_freq=0)"
      ]
     },
     "execution_count": 17,
     "metadata": {},
     "output_type": "execute_result"
    }
   ],
   "source": [
    "regressor\n"
   ]
  },
  {
   "cell_type": "code",
   "execution_count": 18,
   "metadata": {},
   "outputs": [],
   "source": [
    "y_pred = regressor.predict(X_test)"
   ]
  },
  {
   "cell_type": "code",
   "execution_count": 19,
   "metadata": {},
   "outputs": [
    {
     "data": {
      "text/plain": [
       "array([ 6448.43982935,  9142.22380238, 41867.17150049,  8179.62837451,\n",
       "        9062.39899883,  7642.32241276,   847.52754213, 10421.36608829,\n",
       "        5802.99491745,  1893.11125311,  4478.60738099, 20876.45346717,\n",
       "        6244.23241524,  6766.82118447, 28892.39261627, 16957.27139952,\n",
       "       16170.99629602,  1891.96877041,  4212.68359121, 34053.1049827 ,\n",
       "       22724.15727226, 17759.98225029,  6979.05816626, 24067.84544342,\n",
       "        3889.80126321,  5578.82577514,  3684.39027136,  3994.7738557 ,\n",
       "        3732.68098582, 13034.14903678,  8825.01945917, 47658.50816443,\n",
       "       20836.35658332, 13832.83244694, 17352.02032297,  7737.08931904,\n",
       "       12777.64600279, 38685.63787166, 36272.48067976, -1045.66901456,\n",
       "        6360.84735386,  8443.18875624, 22104.12597115, 48208.49174126,\n",
       "       35474.15378143,  1895.41100936, 17398.13581606,  7937.06581009,\n",
       "        4854.8029026 , 13755.88463131,  2921.46494292,  5439.1651422 ,\n",
       "       26036.575448  , 45776.42451741, 10589.7624444 ,  7417.51447475,\n",
       "        4574.84892877, 10604.2495137 ,  9325.15006316, 20308.98771249,\n",
       "        -103.66185732, 45200.97601937, 15263.06589471, 22500.67123436,\n",
       "       12814.93556107,  7085.91794725, 35306.57638625, 39342.04656292,\n",
       "        6074.056612  ,  7142.47873401, 22609.12833794,  9469.98308155,\n",
       "       16815.59762206, 16474.17871971, 18221.07277714, 21143.99941478,\n",
       "       10412.83530691, 13088.70948138, 17749.32376519, 52935.7647319 ,\n",
       "       10017.87907093, 52786.0171351 ,  1537.02029026, 14583.90622507,\n",
       "       37420.7667394 , 20175.63546268,  2850.04759143,    96.16665641,\n",
       "        7358.76727064, 36660.08232509,  1724.45503822, 18271.22601293,\n",
       "       12744.41679258, 13089.717571  ,  6224.73429286,  3181.09615672,\n",
       "       49507.99128928, 44962.35584165,  3035.04193168, 10468.35514589,\n",
       "        4551.56750959, 17567.85984334,  2581.02100877, 36198.55291956,\n",
       "       32387.18461576,  1653.16153773, 11125.90704362,   349.81493215,\n",
       "       11678.66668115, 46629.39555576, 14578.5394049 ,  4801.27769912,\n",
       "        8719.97140736, 35794.92035349, 49753.01494674,  8787.92568534,\n",
       "        4241.16732519,  7904.16775032, 24035.67883877,  9475.77247649,\n",
       "       44245.64041477, 12392.65013078, 16358.84747567, 12327.56945349,\n",
       "       10236.67209548,  6436.69310109, 26906.19166582, 27979.45953101,\n",
       "       48549.04476378,  1517.31896864, 16779.83223506,  6141.93127897,\n",
       "        7164.1799347 ,  8787.07894983, 45950.89061266, 38891.22988236,\n",
       "       21891.17341477, 14658.97665434, 21757.06648153, 11945.76861806,\n",
       "        1203.45591783,  9631.23546984, 20751.39717823,  9271.70759017,\n",
       "        6317.61956291, 10659.54675545, 23963.4903256 , 15087.15137154,\n",
       "         675.73812676, 10009.10653297,  4310.86693782, 38133.00886126,\n",
       "        8375.26825226,  9459.13761513,  3640.03153778,  9015.29691415,\n",
       "       -1136.85631491,  3692.58086439, 16957.27139952, 10309.13851385,\n",
       "        3632.29195747, 13512.28010844, 14421.05967673,  6594.42108676,\n",
       "       14350.19178668,  4626.57514062, 15187.57412855, 10286.57126378,\n",
       "        7841.86953312,   396.52360777, 13149.27560973, 11241.23256418,\n",
       "       11736.77906283, -2468.24096333,  8989.6761722 ,  4838.76681539,\n",
       "        5977.14451565,  7153.56533149, 25447.9142271 ,  1849.54232508,\n",
       "       19686.32311077,  3953.09934397, 12121.68502265,  5384.77710085,\n",
       "        9770.85045893, 29219.5645484 ,  2383.46417599,  3918.2775549 ,\n",
       "       11288.49288393, 16195.70038745, 42913.98049853,  3373.48849292,\n",
       "        3040.90225781, 21305.35134568, -3290.67199822,  5428.72772702,\n",
       "       10540.01571323,  5973.02410128,  2964.76062181,  6262.79426312,\n",
       "       13325.2515015 , 47602.11098656, 16490.22046345, 19689.71977044,\n",
       "        8405.03027024, 36109.06936226,  2860.99636992,  9840.0684095 ,\n",
       "        6961.97219164,   570.97925417,  7486.62978681, 16600.03852469,\n",
       "        5662.53511074,   501.64834647,  5531.53791507, 11821.78902584,\n",
       "        8853.98960838,  9488.06295346, 16082.82090327,  5597.12992685,\n",
       "       12851.5359798 ,  6602.37349741, 10462.26436266, 10500.48514891,\n",
       "       15479.29081012, 12870.12186716, 23242.48668616, 14715.03063611,\n",
       "        2178.35512275,   290.65291315, 10420.20311659,  4227.55937574,\n",
       "       15035.82658028,  2910.393747  ,  7696.55472704,  4222.64945186,\n",
       "       21742.97767105, 36015.19751868,  5120.14935671,  8728.27324991,\n",
       "        9979.19024517, 44378.05009429,  6963.47130845,  8063.95235794,\n",
       "       13798.79571715,  7096.4337385 ,  3996.90648012,  6342.99957929,\n",
       "        5084.63200265,  4030.88597617, 20641.6276561 , 43839.76764202,\n",
       "        2960.87570486,  3318.99966488,  1275.70636858,  2624.05132339,\n",
       "        9870.3650877 ,  2059.70334006,   853.56678723, 17470.64891032,\n",
       "        6510.3792505 , 28541.96335519, 45853.51298802, 16507.34934318,\n",
       "        7264.07796433, 11018.69475392, 53062.49919042,  9255.54022345,\n",
       "       42395.63874946,  1048.73959452, 38703.93639702,  4456.15027388,\n",
       "       11309.38692731, 11414.73467295, 33736.48823073,  3271.75927351,\n",
       "       11015.3680354 ,  6372.07745528,  1159.78810964, 24247.90794674,\n",
       "       10179.55525355,  3133.55867169, 14697.80061224, 21281.35399082,\n",
       "        7702.8520572 , -1106.91811143,  6670.78293758, 23110.91984661,\n",
       "        2393.2680421 ,  1622.31817488,  2198.20616648, 52285.92708093,\n",
       "       11691.55134791,  3347.82578732, 15825.17458744, 13683.04497264,\n",
       "       35156.16082517,  9637.41276605,  5494.62136673, 10210.95995441,\n",
       "        1606.99489112, -1843.74128868, 16786.23658929, 14904.83632652,\n",
       "       11088.15753681,  -719.30117543,  1504.97993877, 17274.94007593,\n",
       "        7162.24968934, 15353.03675168, 21468.90724075, 11731.54571391,\n",
       "       19240.60782261,  -346.36498805,  8870.49504262,  9677.37450085,\n",
       "       20699.10294734,  2052.54936936,  9475.72364935, 48779.37158329,\n",
       "        4730.27906867,  3677.3576919 ,  2415.80801364, 14092.61470034,\n",
       "        6786.07020132, 11858.7547206 , 49341.85498912, 17028.47322764,\n",
       "        8087.66171263, 49750.60790178, 23883.25219504,  7222.55340363,\n",
       "        8388.45529979,  1855.03402711, 29206.22280044,  1665.2324127 ,\n",
       "       16454.5816718 ,  -628.45496994, 13091.51089223,  3755.33420688,\n",
       "       25470.44133262,  7007.61464524,  7266.3319174 , 43165.63173777,\n",
       "        6757.50533797,  4832.10421222, 27597.02029344,  1444.25091662,\n",
       "       12903.55864815,  1433.17404542, 19922.49347596,  3811.27251897,\n",
       "        3836.60194706,  4094.20747974, 46694.64696945, 11838.15126823,\n",
       "       32578.04263644, 40682.62586439,  5024.83101569, 13146.46404832,\n",
       "        1739.81663629,  4235.66057935,  5415.40461585,  9737.06857406,\n",
       "       53811.95166553,  9790.99098178,   566.94393224, 18505.15963762,\n",
       "        2681.46460093, 18738.09209476,  6779.25543489,  -226.4979151 ,\n",
       "         483.70917181, 34248.99665177,  4543.39831167,  2030.78597168,\n",
       "       41974.53932258, 11611.55808549, 48319.9905718 ,  9032.53679324,\n",
       "       18820.76819199,  1880.91607796,  2021.32821339, 18633.81192361,\n",
       "        9460.25223816,  2747.99038452,  5751.86868349,  6696.76402596,\n",
       "        3088.43973609,  5694.80724377,  9864.26734338, 45762.93537882,\n",
       "        2225.12114906, 13155.27965277,  7844.99612552, 23547.01062259,\n",
       "       11955.23519253,  2339.5277213 , 13685.65901388, 14354.35411887,\n",
       "       15070.81302089, 20536.29602193])"
      ]
     },
     "execution_count": 19,
     "metadata": {},
     "output_type": "execute_result"
    }
   ],
   "source": [
    "y_pred"
   ]
  },
  {
   "cell_type": "code",
   "execution_count": 20,
   "metadata": {},
   "outputs": [
    {
     "data": {
      "text/plain": [
       "array([14558.81118386])"
      ]
     },
     "execution_count": 20,
     "metadata": {},
     "output_type": "execute_result"
    }
   ],
   "source": [
    "regressor.predict([[1,2,3,4,5]])"
   ]
  },
  {
   "cell_type": "code",
   "execution_count": 21,
   "metadata": {},
   "outputs": [
    {
     "data": {
      "text/plain": [
       "0.9993933501401385"
      ]
     },
     "execution_count": 21,
     "metadata": {},
     "output_type": "execute_result"
    }
   ],
   "source": [
    "regressor.score(X_train, y_train)"
   ]
  },
  {
   "cell_type": "code",
   "execution_count": 22,
   "metadata": {},
   "outputs": [],
   "source": [
    "from sklearn.metrics import r2_score\n",
    "r_score=r2_score(y_test,y_pred)"
   ]
  },
  {
   "cell_type": "code",
   "execution_count": 23,
   "metadata": {},
   "outputs": [
    {
     "data": {
      "text/plain": [
       "0.7883586225073415"
      ]
     },
     "execution_count": 23,
     "metadata": {},
     "output_type": "execute_result"
    }
   ],
   "source": [
    "r_score"
   ]
  },
  {
   "cell_type": "code",
   "execution_count": null,
   "metadata": {},
   "outputs": [],
   "source": []
  },
  {
   "cell_type": "code",
   "execution_count": null,
   "metadata": {},
   "outputs": [],
   "source": []
  }
 ],
 "metadata": {
  "kernelspec": {
   "display_name": "Python 3",
   "language": "python",
   "name": "python3"
  },
  "language_info": {
   "codemirror_mode": {
    "name": "ipython",
    "version": 3
   },
   "file_extension": ".py",
   "mimetype": "text/x-python",
   "name": "python",
   "nbconvert_exporter": "python",
   "pygments_lexer": "ipython3",
   "version": "3.7.4"
  }
 },
 "nbformat": 4,
 "nbformat_minor": 2
}
